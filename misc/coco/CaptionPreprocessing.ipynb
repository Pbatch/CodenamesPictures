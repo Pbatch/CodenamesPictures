{
 "cells": [
  {
   "cell_type": "code",
   "execution_count": 134,
   "metadata": {},
   "outputs": [],
   "source": [
    "from pycocotools.coco import COCO\n",
    "import numpy as np\n",
    "import pandas as pd\n",
    "from tqdm.notebook import tqdm\n",
    "from collections import Counter\n",
    "import nltk\n",
    "import json\n",
    "from nltk.corpus import stopwords\n",
    "from nltk.stem.porter import PorterStemmer\n",
    "from nltk.corpus import wordnet\n",
    "from nltk.stem import WordNetLemmatizer\n",
    "import string\n",
    "tqdm.pandas()"
   ]
  },
  {
   "cell_type": "code",
   "execution_count": 135,
   "metadata": {},
   "outputs": [
    {
     "name": "stdout",
     "output_type": "stream",
     "text": [
      "5000\n"
     ]
    },
    {
     "data": {
      "text/html": [
       "<div>\n",
       "<style scoped>\n",
       "    .dataframe tbody tr th:only-of-type {\n",
       "        vertical-align: middle;\n",
       "    }\n",
       "\n",
       "    .dataframe tbody tr th {\n",
       "        vertical-align: top;\n",
       "    }\n",
       "\n",
       "    .dataframe thead th {\n",
       "        text-align: right;\n",
       "    }\n",
       "</style>\n",
       "<table border=\"1\" class=\"dataframe\">\n",
       "  <thead>\n",
       "    <tr style=\"text-align: right;\">\n",
       "      <th></th>\n",
       "      <th>coco_url</th>\n",
       "      <th>height</th>\n",
       "      <th>width</th>\n",
       "      <th>id</th>\n",
       "    </tr>\n",
       "  </thead>\n",
       "  <tbody>\n",
       "    <tr>\n",
       "      <td>0</td>\n",
       "      <td>http://images.cocodataset.org/val2017/00000039...</td>\n",
       "      <td>427</td>\n",
       "      <td>640</td>\n",
       "      <td>397133</td>\n",
       "    </tr>\n",
       "    <tr>\n",
       "      <td>1</td>\n",
       "      <td>http://images.cocodataset.org/val2017/00000003...</td>\n",
       "      <td>230</td>\n",
       "      <td>352</td>\n",
       "      <td>37777</td>\n",
       "    </tr>\n",
       "    <tr>\n",
       "      <td>2</td>\n",
       "      <td>http://images.cocodataset.org/val2017/00000025...</td>\n",
       "      <td>428</td>\n",
       "      <td>640</td>\n",
       "      <td>252219</td>\n",
       "    </tr>\n",
       "    <tr>\n",
       "      <td>3</td>\n",
       "      <td>http://images.cocodataset.org/val2017/00000008...</td>\n",
       "      <td>480</td>\n",
       "      <td>640</td>\n",
       "      <td>87038</td>\n",
       "    </tr>\n",
       "    <tr>\n",
       "      <td>4</td>\n",
       "      <td>http://images.cocodataset.org/val2017/00000017...</td>\n",
       "      <td>388</td>\n",
       "      <td>640</td>\n",
       "      <td>174482</td>\n",
       "    </tr>\n",
       "  </tbody>\n",
       "</table>\n",
       "</div>"
      ],
      "text/plain": [
       "                                            coco_url  height  width      id\n",
       "0  http://images.cocodataset.org/val2017/00000039...     427    640  397133\n",
       "1  http://images.cocodataset.org/val2017/00000003...     230    352   37777\n",
       "2  http://images.cocodataset.org/val2017/00000025...     428    640  252219\n",
       "3  http://images.cocodataset.org/val2017/00000008...     480    640   87038\n",
       "4  http://images.cocodataset.org/val2017/00000017...     388    640  174482"
      ]
     },
     "execution_count": 135,
     "metadata": {},
     "output_type": "execute_result"
    }
   ],
   "source": [
    "path = \"../data/2017/captions.json\"\n",
    "data = json.load(open(path, 'r'))\n",
    "df = pd.DataFrame.from_records(data['images'])\n",
    "df.drop(columns=['file_name', 'license', 'date_captured', 'flickr_url'], inplace=True)\n",
    "print(len(df))\n",
    "df.head()"
   ]
  },
  {
   "cell_type": "code",
   "execution_count": 136,
   "metadata": {},
   "outputs": [],
   "source": [
    "def get_captions(image_id):\n",
    "    captions = coco_captions.loadAnns(coco_captions.getAnnIds(imgIds=image_id))\n",
    "    captions = ' '.join(x['caption'] for x in captions)\n",
    "    return captions"
   ]
  },
  {
   "cell_type": "code",
   "execution_count": 137,
   "metadata": {},
   "outputs": [
    {
     "name": "stdout",
     "output_type": "stream",
     "text": [
      "loading annotations into memory...\n",
      "Done (t=0.06s)\n",
      "creating index...\n",
      "index created!\n"
     ]
    },
    {
     "data": {
      "application/vnd.jupyter.widget-view+json": {
       "model_id": "901dfd46f95842f8a3837fdf6e030f1e",
       "version_major": 2,
       "version_minor": 0
      },
      "text/plain": [
       "HBox(children=(IntProgress(value=0, max=5000), HTML(value='')))"
      ]
     },
     "metadata": {},
     "output_type": "display_data"
    },
    {
     "name": "stdout",
     "output_type": "stream",
     "text": [
      "\n"
     ]
    }
   ],
   "source": [
    "coco_captions = COCO(path)\n",
    "df['captions'] = df['id'].progress_apply(lambda x: get_captions(x))"
   ]
  },
  {
   "cell_type": "code",
   "execution_count": 138,
   "metadata": {},
   "outputs": [
    {
     "data": {
      "text/html": [
       "<div>\n",
       "<style scoped>\n",
       "    .dataframe tbody tr th:only-of-type {\n",
       "        vertical-align: middle;\n",
       "    }\n",
       "\n",
       "    .dataframe tbody tr th {\n",
       "        vertical-align: top;\n",
       "    }\n",
       "\n",
       "    .dataframe thead th {\n",
       "        text-align: right;\n",
       "    }\n",
       "</style>\n",
       "<table border=\"1\" class=\"dataframe\">\n",
       "  <thead>\n",
       "    <tr style=\"text-align: right;\">\n",
       "      <th></th>\n",
       "      <th>coco_url</th>\n",
       "      <th>height</th>\n",
       "      <th>width</th>\n",
       "      <th>id</th>\n",
       "      <th>captions</th>\n",
       "    </tr>\n",
       "  </thead>\n",
       "  <tbody>\n",
       "    <tr>\n",
       "      <td>0</td>\n",
       "      <td>http://images.cocodataset.org/val2017/00000039...</td>\n",
       "      <td>427</td>\n",
       "      <td>640</td>\n",
       "      <td>397133</td>\n",
       "      <td>A man is in a kitchen making pizzas. Man in ap...</td>\n",
       "    </tr>\n",
       "    <tr>\n",
       "      <td>1</td>\n",
       "      <td>http://images.cocodataset.org/val2017/00000003...</td>\n",
       "      <td>230</td>\n",
       "      <td>352</td>\n",
       "      <td>37777</td>\n",
       "      <td>The dining table near the kitchen has a bowl o...</td>\n",
       "    </tr>\n",
       "    <tr>\n",
       "      <td>2</td>\n",
       "      <td>http://images.cocodataset.org/val2017/00000025...</td>\n",
       "      <td>428</td>\n",
       "      <td>640</td>\n",
       "      <td>252219</td>\n",
       "      <td>a person with a shopping cart on a city street...</td>\n",
       "    </tr>\n",
       "    <tr>\n",
       "      <td>3</td>\n",
       "      <td>http://images.cocodataset.org/val2017/00000008...</td>\n",
       "      <td>480</td>\n",
       "      <td>640</td>\n",
       "      <td>87038</td>\n",
       "      <td>A person on a skateboard and bike at a skate p...</td>\n",
       "    </tr>\n",
       "    <tr>\n",
       "      <td>4</td>\n",
       "      <td>http://images.cocodataset.org/val2017/00000017...</td>\n",
       "      <td>388</td>\n",
       "      <td>640</td>\n",
       "      <td>174482</td>\n",
       "      <td>a blue bike parked on a side walk  A bicycle i...</td>\n",
       "    </tr>\n",
       "  </tbody>\n",
       "</table>\n",
       "</div>"
      ],
      "text/plain": [
       "                                            coco_url  height  width      id  \\\n",
       "0  http://images.cocodataset.org/val2017/00000039...     427    640  397133   \n",
       "1  http://images.cocodataset.org/val2017/00000003...     230    352   37777   \n",
       "2  http://images.cocodataset.org/val2017/00000025...     428    640  252219   \n",
       "3  http://images.cocodataset.org/val2017/00000008...     480    640   87038   \n",
       "4  http://images.cocodataset.org/val2017/00000017...     388    640  174482   \n",
       "\n",
       "                                            captions  \n",
       "0  A man is in a kitchen making pizzas. Man in ap...  \n",
       "1  The dining table near the kitchen has a bowl o...  \n",
       "2  a person with a shopping cart on a city street...  \n",
       "3  A person on a skateboard and bike at a skate p...  \n",
       "4  a blue bike parked on a side walk  A bicycle i...  "
      ]
     },
     "execution_count": 138,
     "metadata": {},
     "output_type": "execute_result"
    }
   ],
   "source": [
    "df.head()"
   ]
  },
  {
   "cell_type": "code",
   "execution_count": 156,
   "metadata": {},
   "outputs": [],
   "source": [
    "cond1 = df['height'] < 0.8*df['width']\n",
    "cond2 = df['height'] > 0.6*df['width']\n",
    "df = df[cond1 & cond2]"
   ]
  },
  {
   "cell_type": "code",
   "execution_count": 157,
   "metadata": {},
   "outputs": [
    {
     "name": "stdout",
     "output_type": "stream",
     "text": [
      "3242\n"
     ]
    },
    {
     "data": {
      "text/html": [
       "<div>\n",
       "<style scoped>\n",
       "    .dataframe tbody tr th:only-of-type {\n",
       "        vertical-align: middle;\n",
       "    }\n",
       "\n",
       "    .dataframe tbody tr th {\n",
       "        vertical-align: top;\n",
       "    }\n",
       "\n",
       "    .dataframe thead th {\n",
       "        text-align: right;\n",
       "    }\n",
       "</style>\n",
       "<table border=\"1\" class=\"dataframe\">\n",
       "  <thead>\n",
       "    <tr style=\"text-align: right;\">\n",
       "      <th></th>\n",
       "      <th>coco_url</th>\n",
       "      <th>height</th>\n",
       "      <th>width</th>\n",
       "      <th>id</th>\n",
       "      <th>captions</th>\n",
       "    </tr>\n",
       "  </thead>\n",
       "  <tbody>\n",
       "    <tr>\n",
       "      <td>0</td>\n",
       "      <td>http://images.cocodataset.org/val2017/00000039...</td>\n",
       "      <td>427</td>\n",
       "      <td>640</td>\n",
       "      <td>397133</td>\n",
       "      <td>A man is in a kitchen making pizzas. Man in ap...</td>\n",
       "    </tr>\n",
       "    <tr>\n",
       "      <td>1</td>\n",
       "      <td>http://images.cocodataset.org/val2017/00000003...</td>\n",
       "      <td>230</td>\n",
       "      <td>352</td>\n",
       "      <td>37777</td>\n",
       "      <td>The dining table near the kitchen has a bowl o...</td>\n",
       "    </tr>\n",
       "    <tr>\n",
       "      <td>2</td>\n",
       "      <td>http://images.cocodataset.org/val2017/00000025...</td>\n",
       "      <td>428</td>\n",
       "      <td>640</td>\n",
       "      <td>252219</td>\n",
       "      <td>a person with a shopping cart on a city street...</td>\n",
       "    </tr>\n",
       "    <tr>\n",
       "      <td>3</td>\n",
       "      <td>http://images.cocodataset.org/val2017/00000008...</td>\n",
       "      <td>480</td>\n",
       "      <td>640</td>\n",
       "      <td>87038</td>\n",
       "      <td>A person on a skateboard and bike at a skate p...</td>\n",
       "    </tr>\n",
       "    <tr>\n",
       "      <td>4</td>\n",
       "      <td>http://images.cocodataset.org/val2017/00000017...</td>\n",
       "      <td>388</td>\n",
       "      <td>640</td>\n",
       "      <td>174482</td>\n",
       "      <td>a blue bike parked on a side walk  A bicycle i...</td>\n",
       "    </tr>\n",
       "  </tbody>\n",
       "</table>\n",
       "</div>"
      ],
      "text/plain": [
       "                                            coco_url  height  width      id  \\\n",
       "0  http://images.cocodataset.org/val2017/00000039...     427    640  397133   \n",
       "1  http://images.cocodataset.org/val2017/00000003...     230    352   37777   \n",
       "2  http://images.cocodataset.org/val2017/00000025...     428    640  252219   \n",
       "3  http://images.cocodataset.org/val2017/00000008...     480    640   87038   \n",
       "4  http://images.cocodataset.org/val2017/00000017...     388    640  174482   \n",
       "\n",
       "                                            captions  \n",
       "0  A man is in a kitchen making pizzas. Man in ap...  \n",
       "1  The dining table near the kitchen has a bowl o...  \n",
       "2  a person with a shopping cart on a city street...  \n",
       "3  A person on a skateboard and bike at a skate p...  \n",
       "4  a blue bike parked on a side walk  A bicycle i...  "
      ]
     },
     "execution_count": 157,
     "metadata": {},
     "output_type": "execute_result"
    }
   ],
   "source": [
    "print(len(df))\n",
    "df.head()"
   ]
  },
  {
   "cell_type": "code",
   "execution_count": 158,
   "metadata": {},
   "outputs": [],
   "source": [
    "df['captions'] = df['captions'].str.lower()"
   ]
  },
  {
   "cell_type": "code",
   "execution_count": 159,
   "metadata": {},
   "outputs": [
    {
     "data": {
      "text/html": [
       "<div>\n",
       "<style scoped>\n",
       "    .dataframe tbody tr th:only-of-type {\n",
       "        vertical-align: middle;\n",
       "    }\n",
       "\n",
       "    .dataframe tbody tr th {\n",
       "        vertical-align: top;\n",
       "    }\n",
       "\n",
       "    .dataframe thead th {\n",
       "        text-align: right;\n",
       "    }\n",
       "</style>\n",
       "<table border=\"1\" class=\"dataframe\">\n",
       "  <thead>\n",
       "    <tr style=\"text-align: right;\">\n",
       "      <th></th>\n",
       "      <th>coco_url</th>\n",
       "      <th>height</th>\n",
       "      <th>width</th>\n",
       "      <th>id</th>\n",
       "      <th>captions</th>\n",
       "    </tr>\n",
       "  </thead>\n",
       "  <tbody>\n",
       "    <tr>\n",
       "      <td>0</td>\n",
       "      <td>http://images.cocodataset.org/val2017/00000039...</td>\n",
       "      <td>427</td>\n",
       "      <td>640</td>\n",
       "      <td>397133</td>\n",
       "      <td>a man is in a kitchen making pizzas. man in ap...</td>\n",
       "    </tr>\n",
       "    <tr>\n",
       "      <td>1</td>\n",
       "      <td>http://images.cocodataset.org/val2017/00000003...</td>\n",
       "      <td>230</td>\n",
       "      <td>352</td>\n",
       "      <td>37777</td>\n",
       "      <td>the dining table near the kitchen has a bowl o...</td>\n",
       "    </tr>\n",
       "    <tr>\n",
       "      <td>2</td>\n",
       "      <td>http://images.cocodataset.org/val2017/00000025...</td>\n",
       "      <td>428</td>\n",
       "      <td>640</td>\n",
       "      <td>252219</td>\n",
       "      <td>a person with a shopping cart on a city street...</td>\n",
       "    </tr>\n",
       "    <tr>\n",
       "      <td>3</td>\n",
       "      <td>http://images.cocodataset.org/val2017/00000008...</td>\n",
       "      <td>480</td>\n",
       "      <td>640</td>\n",
       "      <td>87038</td>\n",
       "      <td>a person on a skateboard and bike at a skate p...</td>\n",
       "    </tr>\n",
       "    <tr>\n",
       "      <td>4</td>\n",
       "      <td>http://images.cocodataset.org/val2017/00000017...</td>\n",
       "      <td>388</td>\n",
       "      <td>640</td>\n",
       "      <td>174482</td>\n",
       "      <td>a blue bike parked on a side walk  a bicycle i...</td>\n",
       "    </tr>\n",
       "  </tbody>\n",
       "</table>\n",
       "</div>"
      ],
      "text/plain": [
       "                                            coco_url  height  width      id  \\\n",
       "0  http://images.cocodataset.org/val2017/00000039...     427    640  397133   \n",
       "1  http://images.cocodataset.org/val2017/00000003...     230    352   37777   \n",
       "2  http://images.cocodataset.org/val2017/00000025...     428    640  252219   \n",
       "3  http://images.cocodataset.org/val2017/00000008...     480    640   87038   \n",
       "4  http://images.cocodataset.org/val2017/00000017...     388    640  174482   \n",
       "\n",
       "                                            captions  \n",
       "0  a man is in a kitchen making pizzas. man in ap...  \n",
       "1  the dining table near the kitchen has a bowl o...  \n",
       "2  a person with a shopping cart on a city street...  \n",
       "3  a person on a skateboard and bike at a skate p...  \n",
       "4  a blue bike parked on a side walk  a bicycle i...  "
      ]
     },
     "execution_count": 159,
     "metadata": {},
     "output_type": "execute_result"
    }
   ],
   "source": [
    "df.head()"
   ]
  },
  {
   "cell_type": "code",
   "execution_count": 160,
   "metadata": {},
   "outputs": [
    {
     "data": {
      "application/vnd.jupyter.widget-view+json": {
       "model_id": "e6c3968930284d5ebdf98708fc04b0b5",
       "version_major": 2,
       "version_minor": 0
      },
      "text/plain": [
       "HBox(children=(IntProgress(value=0, max=3242), HTML(value='')))"
      ]
     },
     "metadata": {},
     "output_type": "display_data"
    },
    {
     "name": "stdout",
     "output_type": "stream",
     "text": [
      "\n"
     ]
    }
   ],
   "source": [
    "def remove_punctuation(text):\n",
    "    return text.translate(str.maketrans('', '', string.punctuation))\n",
    "\n",
    "df['captions'] = df['captions'].progress_apply(lambda text: remove_punctuation(text))"
   ]
  },
  {
   "cell_type": "code",
   "execution_count": 161,
   "metadata": {},
   "outputs": [
    {
     "data": {
      "text/html": [
       "<div>\n",
       "<style scoped>\n",
       "    .dataframe tbody tr th:only-of-type {\n",
       "        vertical-align: middle;\n",
       "    }\n",
       "\n",
       "    .dataframe tbody tr th {\n",
       "        vertical-align: top;\n",
       "    }\n",
       "\n",
       "    .dataframe thead th {\n",
       "        text-align: right;\n",
       "    }\n",
       "</style>\n",
       "<table border=\"1\" class=\"dataframe\">\n",
       "  <thead>\n",
       "    <tr style=\"text-align: right;\">\n",
       "      <th></th>\n",
       "      <th>coco_url</th>\n",
       "      <th>height</th>\n",
       "      <th>width</th>\n",
       "      <th>id</th>\n",
       "      <th>captions</th>\n",
       "    </tr>\n",
       "  </thead>\n",
       "  <tbody>\n",
       "    <tr>\n",
       "      <td>0</td>\n",
       "      <td>http://images.cocodataset.org/val2017/00000039...</td>\n",
       "      <td>427</td>\n",
       "      <td>640</td>\n",
       "      <td>397133</td>\n",
       "      <td>a man is in a kitchen making pizzas man in apr...</td>\n",
       "    </tr>\n",
       "    <tr>\n",
       "      <td>1</td>\n",
       "      <td>http://images.cocodataset.org/val2017/00000003...</td>\n",
       "      <td>230</td>\n",
       "      <td>352</td>\n",
       "      <td>37777</td>\n",
       "      <td>the dining table near the kitchen has a bowl o...</td>\n",
       "    </tr>\n",
       "    <tr>\n",
       "      <td>2</td>\n",
       "      <td>http://images.cocodataset.org/val2017/00000025...</td>\n",
       "      <td>428</td>\n",
       "      <td>640</td>\n",
       "      <td>252219</td>\n",
       "      <td>a person with a shopping cart on a city street...</td>\n",
       "    </tr>\n",
       "    <tr>\n",
       "      <td>3</td>\n",
       "      <td>http://images.cocodataset.org/val2017/00000008...</td>\n",
       "      <td>480</td>\n",
       "      <td>640</td>\n",
       "      <td>87038</td>\n",
       "      <td>a person on a skateboard and bike at a skate p...</td>\n",
       "    </tr>\n",
       "    <tr>\n",
       "      <td>4</td>\n",
       "      <td>http://images.cocodataset.org/val2017/00000017...</td>\n",
       "      <td>388</td>\n",
       "      <td>640</td>\n",
       "      <td>174482</td>\n",
       "      <td>a blue bike parked on a side walk  a bicycle i...</td>\n",
       "    </tr>\n",
       "  </tbody>\n",
       "</table>\n",
       "</div>"
      ],
      "text/plain": [
       "                                            coco_url  height  width      id  \\\n",
       "0  http://images.cocodataset.org/val2017/00000039...     427    640  397133   \n",
       "1  http://images.cocodataset.org/val2017/00000003...     230    352   37777   \n",
       "2  http://images.cocodataset.org/val2017/00000025...     428    640  252219   \n",
       "3  http://images.cocodataset.org/val2017/00000008...     480    640   87038   \n",
       "4  http://images.cocodataset.org/val2017/00000017...     388    640  174482   \n",
       "\n",
       "                                            captions  \n",
       "0  a man is in a kitchen making pizzas man in apr...  \n",
       "1  the dining table near the kitchen has a bowl o...  \n",
       "2  a person with a shopping cart on a city street...  \n",
       "3  a person on a skateboard and bike at a skate p...  \n",
       "4  a blue bike parked on a side walk  a bicycle i...  "
      ]
     },
     "execution_count": 161,
     "metadata": {},
     "output_type": "execute_result"
    }
   ],
   "source": [
    "df.head()"
   ]
  },
  {
   "cell_type": "code",
   "execution_count": 162,
   "metadata": {},
   "outputs": [
    {
     "data": {
      "application/vnd.jupyter.widget-view+json": {
       "model_id": "8691c53a876645898197ee5b3e79db4f",
       "version_major": 2,
       "version_minor": 0
      },
      "text/plain": [
       "HBox(children=(IntProgress(value=0, max=3242), HTML(value='')))"
      ]
     },
     "metadata": {},
     "output_type": "display_data"
    },
    {
     "name": "stdout",
     "output_type": "stream",
     "text": [
      "\n"
     ]
    }
   ],
   "source": [
    "stop_words = set(stopwords.words('english'))\n",
    "def remove_stop_words(text):\n",
    "    return ' '.join([word for word in str(text).split() if word not in stop_words])\n",
    "\n",
    "df['captions'] = df['captions'].progress_apply(lambda text: remove_stop_words(text))"
   ]
  },
  {
   "cell_type": "code",
   "execution_count": 163,
   "metadata": {},
   "outputs": [
    {
     "data": {
      "text/html": [
       "<div>\n",
       "<style scoped>\n",
       "    .dataframe tbody tr th:only-of-type {\n",
       "        vertical-align: middle;\n",
       "    }\n",
       "\n",
       "    .dataframe tbody tr th {\n",
       "        vertical-align: top;\n",
       "    }\n",
       "\n",
       "    .dataframe thead th {\n",
       "        text-align: right;\n",
       "    }\n",
       "</style>\n",
       "<table border=\"1\" class=\"dataframe\">\n",
       "  <thead>\n",
       "    <tr style=\"text-align: right;\">\n",
       "      <th></th>\n",
       "      <th>coco_url</th>\n",
       "      <th>height</th>\n",
       "      <th>width</th>\n",
       "      <th>id</th>\n",
       "      <th>captions</th>\n",
       "    </tr>\n",
       "  </thead>\n",
       "  <tbody>\n",
       "    <tr>\n",
       "      <td>0</td>\n",
       "      <td>http://images.cocodataset.org/val2017/00000039...</td>\n",
       "      <td>427</td>\n",
       "      <td>640</td>\n",
       "      <td>397133</td>\n",
       "      <td>man kitchen making pizzas man apron standing f...</td>\n",
       "    </tr>\n",
       "    <tr>\n",
       "      <td>1</td>\n",
       "      <td>http://images.cocodataset.org/val2017/00000003...</td>\n",
       "      <td>230</td>\n",
       "      <td>352</td>\n",
       "      <td>37777</td>\n",
       "      <td>dining table near kitchen bowl fruit small kit...</td>\n",
       "    </tr>\n",
       "    <tr>\n",
       "      <td>2</td>\n",
       "      <td>http://images.cocodataset.org/val2017/00000025...</td>\n",
       "      <td>428</td>\n",
       "      <td>640</td>\n",
       "      <td>252219</td>\n",
       "      <td>person shopping cart city street city dwellers...</td>\n",
       "    </tr>\n",
       "    <tr>\n",
       "      <td>3</td>\n",
       "      <td>http://images.cocodataset.org/val2017/00000008...</td>\n",
       "      <td>480</td>\n",
       "      <td>640</td>\n",
       "      <td>87038</td>\n",
       "      <td>person skateboard bike skate park man skateboa...</td>\n",
       "    </tr>\n",
       "    <tr>\n",
       "      <td>4</td>\n",
       "      <td>http://images.cocodataset.org/val2017/00000017...</td>\n",
       "      <td>388</td>\n",
       "      <td>640</td>\n",
       "      <td>174482</td>\n",
       "      <td>blue bike parked side walk bicycle chained fix...</td>\n",
       "    </tr>\n",
       "  </tbody>\n",
       "</table>\n",
       "</div>"
      ],
      "text/plain": [
       "                                            coco_url  height  width      id  \\\n",
       "0  http://images.cocodataset.org/val2017/00000039...     427    640  397133   \n",
       "1  http://images.cocodataset.org/val2017/00000003...     230    352   37777   \n",
       "2  http://images.cocodataset.org/val2017/00000025...     428    640  252219   \n",
       "3  http://images.cocodataset.org/val2017/00000008...     480    640   87038   \n",
       "4  http://images.cocodataset.org/val2017/00000017...     388    640  174482   \n",
       "\n",
       "                                            captions  \n",
       "0  man kitchen making pizzas man apron standing f...  \n",
       "1  dining table near kitchen bowl fruit small kit...  \n",
       "2  person shopping cart city street city dwellers...  \n",
       "3  person skateboard bike skate park man skateboa...  \n",
       "4  blue bike parked side walk bicycle chained fix...  "
      ]
     },
     "execution_count": 163,
     "metadata": {},
     "output_type": "execute_result"
    }
   ],
   "source": [
    "df.head()"
   ]
  },
  {
   "cell_type": "code",
   "execution_count": 183,
   "metadata": {},
   "outputs": [
    {
     "name": "stdout",
     "output_type": "stream",
     "text": [
      "19 4\n",
      "20 10\n",
      "21 23\n",
      "22 52\n",
      "23 92\n",
      "24 168\n",
      "25 239\n",
      "26 291\n",
      "27 343\n",
      "28 348\n",
      "29 352\n",
      "30 300\n",
      "31 288\n",
      "32 200\n",
      "33 155\n",
      "34 107\n",
      "35 74\n",
      "36 62\n",
      "37 44\n",
      "38 32\n",
      "39 18\n",
      "40 14\n",
      "41 7\n",
      "42 3\n",
      "43 6\n",
      "44 1\n",
      "45 5\n",
      "46 2\n",
      "50 1\n",
      "55 1\n"
     ]
    }
   ],
   "source": [
    "import matplotlib.pyplot as plt\n",
    "%matplotlib inline\n",
    "d = Counter(df['captions'].apply(lambda x: len(x.split(' '))))\n",
    "sorted_keys = sorted(d)\n",
    "for k in sorted(d):\n",
    "    print(k, d[k])"
   ]
  },
  {
   "cell_type": "code",
   "execution_count": 164,
   "metadata": {},
   "outputs": [],
   "source": [
    "df.to_csv('../data/2017/captions.csv', index=False)"
   ]
  }
 ],
 "metadata": {
  "kernelspec": {
   "display_name": "Python 3",
   "language": "python",
   "name": "python3"
  },
  "language_info": {
   "codemirror_mode": {
    "name": "ipython",
    "version": 3
   },
   "file_extension": ".py",
   "mimetype": "text/x-python",
   "name": "python",
   "nbconvert_exporter": "python",
   "pygments_lexer": "ipython3",
   "version": "3.7.4"
  }
 },
 "nbformat": 4,
 "nbformat_minor": 2
}
