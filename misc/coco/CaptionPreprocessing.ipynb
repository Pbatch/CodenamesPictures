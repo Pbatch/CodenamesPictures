{
 "cells": [
  {
   "cell_type": "code",
   "execution_count": 3,
   "metadata": {},
   "outputs": [
    {
     "name": "stderr",
     "output_type": "stream",
     "text": [
      "c:\\users\\peter\\appdata\\local\\programs\\python\\python37\\lib\\site-packages\\tqdm\\std.py:648: FutureWarning: The Panel class is removed from pandas. Accessing it from the top-level namespace will also be removed in the next version\n",
      "  from pandas import Panel\n"
     ]
    }
   ],
   "source": [
    "from pycocotools.coco import COCO\n",
    "import pandas as pd\n",
    "from tqdm.notebook import tqdm\n",
    "from collections import Counter\n",
    "import json\n",
    "from nltk.corpus import stopwords\n",
    "import re\n",
    "import string\n",
    "import numpy as np\n",
    "tqdm.pandas()"
   ]
  },
  {
   "cell_type": "code",
   "execution_count": 4,
   "metadata": {},
   "outputs": [
    {
     "name": "stdout",
     "output_type": "stream",
     "text": [
      "5000\n"
     ]
    },
    {
     "data": {
      "text/html": [
       "<div>\n",
       "<style scoped>\n",
       "    .dataframe tbody tr th:only-of-type {\n",
       "        vertical-align: middle;\n",
       "    }\n",
       "\n",
       "    .dataframe tbody tr th {\n",
       "        vertical-align: top;\n",
       "    }\n",
       "\n",
       "    .dataframe thead th {\n",
       "        text-align: right;\n",
       "    }\n",
       "</style>\n",
       "<table border=\"1\" class=\"dataframe\">\n",
       "  <thead>\n",
       "    <tr style=\"text-align: right;\">\n",
       "      <th></th>\n",
       "      <th>coco_url</th>\n",
       "      <th>height</th>\n",
       "      <th>width</th>\n",
       "      <th>id</th>\n",
       "    </tr>\n",
       "  </thead>\n",
       "  <tbody>\n",
       "    <tr>\n",
       "      <td>0</td>\n",
       "      <td>http://images.cocodataset.org/val2017/00000039...</td>\n",
       "      <td>427</td>\n",
       "      <td>640</td>\n",
       "      <td>397133</td>\n",
       "    </tr>\n",
       "    <tr>\n",
       "      <td>1</td>\n",
       "      <td>http://images.cocodataset.org/val2017/00000003...</td>\n",
       "      <td>230</td>\n",
       "      <td>352</td>\n",
       "      <td>37777</td>\n",
       "    </tr>\n",
       "    <tr>\n",
       "      <td>2</td>\n",
       "      <td>http://images.cocodataset.org/val2017/00000025...</td>\n",
       "      <td>428</td>\n",
       "      <td>640</td>\n",
       "      <td>252219</td>\n",
       "    </tr>\n",
       "    <tr>\n",
       "      <td>3</td>\n",
       "      <td>http://images.cocodataset.org/val2017/00000008...</td>\n",
       "      <td>480</td>\n",
       "      <td>640</td>\n",
       "      <td>87038</td>\n",
       "    </tr>\n",
       "    <tr>\n",
       "      <td>4</td>\n",
       "      <td>http://images.cocodataset.org/val2017/00000017...</td>\n",
       "      <td>388</td>\n",
       "      <td>640</td>\n",
       "      <td>174482</td>\n",
       "    </tr>\n",
       "  </tbody>\n",
       "</table>\n",
       "</div>"
      ],
      "text/plain": [
       "                                            coco_url  height  width      id\n",
       "0  http://images.cocodataset.org/val2017/00000039...     427    640  397133\n",
       "1  http://images.cocodataset.org/val2017/00000003...     230    352   37777\n",
       "2  http://images.cocodataset.org/val2017/00000025...     428    640  252219\n",
       "3  http://images.cocodataset.org/val2017/00000008...     480    640   87038\n",
       "4  http://images.cocodataset.org/val2017/00000017...     388    640  174482"
      ]
     },
     "execution_count": 4,
     "metadata": {},
     "output_type": "execute_result"
    }
   ],
   "source": [
    "path = \"../data/2017/captions.json\"\n",
    "data = json.load(open(path, 'r'))\n",
    "df = pd.DataFrame.from_records(data['images'])\n",
    "df.drop(columns=['file_name', 'license', 'date_captured', 'flickr_url'], inplace=True)\n",
    "print(len(df))\n",
    "df.head()"
   ]
  },
  {
   "cell_type": "code",
   "execution_count": 5,
   "metadata": {},
   "outputs": [],
   "source": [
    "def get_captions(image_id):\n",
    "    captions = coco_captions.loadAnns(coco_captions.getAnnIds(imgIds=image_id))\n",
    "    captions = ' '.join(x['caption'] for x in captions)\n",
    "    return captions"
   ]
  },
  {
   "cell_type": "code",
   "execution_count": 6,
   "metadata": {},
   "outputs": [
    {
     "name": "stdout",
     "output_type": "stream",
     "text": [
      "loading annotations into memory...\n",
      "Done (t=0.06s)\n",
      "creating index...\n",
      "index created!\n"
     ]
    },
    {
     "data": {
      "application/vnd.jupyter.widget-view+json": {
       "model_id": "2d70fffade1f462798d79e5021465bca",
       "version_major": 2,
       "version_minor": 0
      },
      "text/plain": [
       "HBox(children=(IntProgress(value=0, max=5000), HTML(value='')))"
      ]
     },
     "metadata": {},
     "output_type": "display_data"
    },
    {
     "name": "stdout",
     "output_type": "stream",
     "text": [
      "\n"
     ]
    }
   ],
   "source": [
    "coco_captions = COCO(path)\n",
    "df['captions'] = df['id'].progress_apply(lambda x: get_captions(x))"
   ]
  },
  {
   "cell_type": "code",
   "execution_count": 7,
   "metadata": {},
   "outputs": [
    {
     "data": {
      "text/html": [
       "<div>\n",
       "<style scoped>\n",
       "    .dataframe tbody tr th:only-of-type {\n",
       "        vertical-align: middle;\n",
       "    }\n",
       "\n",
       "    .dataframe tbody tr th {\n",
       "        vertical-align: top;\n",
       "    }\n",
       "\n",
       "    .dataframe thead th {\n",
       "        text-align: right;\n",
       "    }\n",
       "</style>\n",
       "<table border=\"1\" class=\"dataframe\">\n",
       "  <thead>\n",
       "    <tr style=\"text-align: right;\">\n",
       "      <th></th>\n",
       "      <th>coco_url</th>\n",
       "      <th>height</th>\n",
       "      <th>width</th>\n",
       "      <th>id</th>\n",
       "      <th>captions</th>\n",
       "    </tr>\n",
       "  </thead>\n",
       "  <tbody>\n",
       "    <tr>\n",
       "      <td>0</td>\n",
       "      <td>http://images.cocodataset.org/val2017/00000039...</td>\n",
       "      <td>427</td>\n",
       "      <td>640</td>\n",
       "      <td>397133</td>\n",
       "      <td>A man is in a kitchen making pizzas. Man in ap...</td>\n",
       "    </tr>\n",
       "    <tr>\n",
       "      <td>1</td>\n",
       "      <td>http://images.cocodataset.org/val2017/00000003...</td>\n",
       "      <td>230</td>\n",
       "      <td>352</td>\n",
       "      <td>37777</td>\n",
       "      <td>The dining table near the kitchen has a bowl o...</td>\n",
       "    </tr>\n",
       "    <tr>\n",
       "      <td>2</td>\n",
       "      <td>http://images.cocodataset.org/val2017/00000025...</td>\n",
       "      <td>428</td>\n",
       "      <td>640</td>\n",
       "      <td>252219</td>\n",
       "      <td>a person with a shopping cart on a city street...</td>\n",
       "    </tr>\n",
       "    <tr>\n",
       "      <td>3</td>\n",
       "      <td>http://images.cocodataset.org/val2017/00000008...</td>\n",
       "      <td>480</td>\n",
       "      <td>640</td>\n",
       "      <td>87038</td>\n",
       "      <td>A person on a skateboard and bike at a skate p...</td>\n",
       "    </tr>\n",
       "    <tr>\n",
       "      <td>4</td>\n",
       "      <td>http://images.cocodataset.org/val2017/00000017...</td>\n",
       "      <td>388</td>\n",
       "      <td>640</td>\n",
       "      <td>174482</td>\n",
       "      <td>a blue bike parked on a side walk  A bicycle i...</td>\n",
       "    </tr>\n",
       "  </tbody>\n",
       "</table>\n",
       "</div>"
      ],
      "text/plain": [
       "                                            coco_url  height  width      id  \\\n",
       "0  http://images.cocodataset.org/val2017/00000039...     427    640  397133   \n",
       "1  http://images.cocodataset.org/val2017/00000003...     230    352   37777   \n",
       "2  http://images.cocodataset.org/val2017/00000025...     428    640  252219   \n",
       "3  http://images.cocodataset.org/val2017/00000008...     480    640   87038   \n",
       "4  http://images.cocodataset.org/val2017/00000017...     388    640  174482   \n",
       "\n",
       "                                            captions  \n",
       "0  A man is in a kitchen making pizzas. Man in ap...  \n",
       "1  The dining table near the kitchen has a bowl o...  \n",
       "2  a person with a shopping cart on a city street...  \n",
       "3  A person on a skateboard and bike at a skate p...  \n",
       "4  a blue bike parked on a side walk  A bicycle i...  "
      ]
     },
     "execution_count": 7,
     "metadata": {},
     "output_type": "execute_result"
    }
   ],
   "source": [
    "df.head()"
   ]
  },
  {
   "cell_type": "code",
   "execution_count": 8,
   "metadata": {},
   "outputs": [],
   "source": [
    "cond1 = df['height'] < 0.8*df['width']\n",
    "cond2 = df['height'] > 0.6*df['width']\n",
    "df = df[cond1 & cond2]"
   ]
  },
  {
   "cell_type": "code",
   "execution_count": 9,
   "metadata": {},
   "outputs": [
    {
     "name": "stdout",
     "output_type": "stream",
     "text": [
      "3242\n"
     ]
    },
    {
     "data": {
      "text/html": [
       "<div>\n",
       "<style scoped>\n",
       "    .dataframe tbody tr th:only-of-type {\n",
       "        vertical-align: middle;\n",
       "    }\n",
       "\n",
       "    .dataframe tbody tr th {\n",
       "        vertical-align: top;\n",
       "    }\n",
       "\n",
       "    .dataframe thead th {\n",
       "        text-align: right;\n",
       "    }\n",
       "</style>\n",
       "<table border=\"1\" class=\"dataframe\">\n",
       "  <thead>\n",
       "    <tr style=\"text-align: right;\">\n",
       "      <th></th>\n",
       "      <th>coco_url</th>\n",
       "      <th>height</th>\n",
       "      <th>width</th>\n",
       "      <th>id</th>\n",
       "      <th>captions</th>\n",
       "    </tr>\n",
       "  </thead>\n",
       "  <tbody>\n",
       "    <tr>\n",
       "      <td>0</td>\n",
       "      <td>http://images.cocodataset.org/val2017/00000039...</td>\n",
       "      <td>427</td>\n",
       "      <td>640</td>\n",
       "      <td>397133</td>\n",
       "      <td>A man is in a kitchen making pizzas. Man in ap...</td>\n",
       "    </tr>\n",
       "    <tr>\n",
       "      <td>1</td>\n",
       "      <td>http://images.cocodataset.org/val2017/00000003...</td>\n",
       "      <td>230</td>\n",
       "      <td>352</td>\n",
       "      <td>37777</td>\n",
       "      <td>The dining table near the kitchen has a bowl o...</td>\n",
       "    </tr>\n",
       "    <tr>\n",
       "      <td>2</td>\n",
       "      <td>http://images.cocodataset.org/val2017/00000025...</td>\n",
       "      <td>428</td>\n",
       "      <td>640</td>\n",
       "      <td>252219</td>\n",
       "      <td>a person with a shopping cart on a city street...</td>\n",
       "    </tr>\n",
       "    <tr>\n",
       "      <td>3</td>\n",
       "      <td>http://images.cocodataset.org/val2017/00000008...</td>\n",
       "      <td>480</td>\n",
       "      <td>640</td>\n",
       "      <td>87038</td>\n",
       "      <td>A person on a skateboard and bike at a skate p...</td>\n",
       "    </tr>\n",
       "    <tr>\n",
       "      <td>4</td>\n",
       "      <td>http://images.cocodataset.org/val2017/00000017...</td>\n",
       "      <td>388</td>\n",
       "      <td>640</td>\n",
       "      <td>174482</td>\n",
       "      <td>a blue bike parked on a side walk  A bicycle i...</td>\n",
       "    </tr>\n",
       "  </tbody>\n",
       "</table>\n",
       "</div>"
      ],
      "text/plain": [
       "                                            coco_url  height  width      id  \\\n",
       "0  http://images.cocodataset.org/val2017/00000039...     427    640  397133   \n",
       "1  http://images.cocodataset.org/val2017/00000003...     230    352   37777   \n",
       "2  http://images.cocodataset.org/val2017/00000025...     428    640  252219   \n",
       "3  http://images.cocodataset.org/val2017/00000008...     480    640   87038   \n",
       "4  http://images.cocodataset.org/val2017/00000017...     388    640  174482   \n",
       "\n",
       "                                            captions  \n",
       "0  A man is in a kitchen making pizzas. Man in ap...  \n",
       "1  The dining table near the kitchen has a bowl o...  \n",
       "2  a person with a shopping cart on a city street...  \n",
       "3  A person on a skateboard and bike at a skate p...  \n",
       "4  a blue bike parked on a side walk  A bicycle i...  "
      ]
     },
     "execution_count": 9,
     "metadata": {},
     "output_type": "execute_result"
    }
   ],
   "source": [
    "print(len(df))\n",
    "df.head()"
   ]
  },
  {
   "cell_type": "code",
   "execution_count": 33,
   "metadata": {},
   "outputs": [],
   "source": [
    "def add_stuff_to_captions(caption, image_id):\n",
    "    anns = coco_captions.loadAnns(coco_captions.getAnnIds(imgIds=image_id))\n",
    "    \n",
    "    stuff = []\n",
    "    for ann in anns:\n",
    "        key = ann['category_id']\n",
    "        try:\n",
    "            value = int_to_cat[key]\n",
    "            words = re.findall(r\"[\\w']+\", value)\n",
    "            if 'other' in words:\n",
    "                words.remove('other')\n",
    "            stuff.extend(words)\n",
    "        except KeyError:\n",
    "            continue\n",
    "    stuff = ' '.join(stuff)\n",
    "    caption = f'{stuff} {caption}'\n",
    "    return caption"
   ]
  },
  {
   "cell_type": "code",
   "execution_count": 34,
   "metadata": {},
   "outputs": [
    {
     "name": "stdout",
     "output_type": "stream",
     "text": [
      "loading annotations into memory...\n",
      "Done (t=0.55s)\n",
      "creating index...\n",
      "index created!\n"
     ]
    },
    {
     "data": {
      "application/vnd.jupyter.widget-view+json": {
       "model_id": "2c9e6df3e3c94a7290cddcff7049ab70",
       "version_major": 2,
       "version_minor": 0
      },
      "text/plain": [
       "HBox(children=(IntProgress(value=0, max=3242), HTML(value='')))"
      ]
     },
     "metadata": {},
     "output_type": "display_data"
    },
    {
     "name": "stdout",
     "output_type": "stream",
     "text": [
      "\n"
     ]
    }
   ],
   "source": [
    "path = \"../data/2017/stuff.json\"\n",
    "coco_captions = COCO(path)\n",
    "int_to_cat = np.load('../data/2017/int_to_cat.npy', allow_pickle=True).item()\n",
    "f = lambda row: add_stuff_to_captions(row['captions'], row['id'])\n",
    "df['captions'] = df[['captions', 'id']].progress_apply(f, axis=1)"
   ]
  },
  {
   "cell_type": "code",
   "execution_count": 37,
   "metadata": {},
   "outputs": [
    {
     "data": {
      "text/html": [
       "<div>\n",
       "<style scoped>\n",
       "    .dataframe tbody tr th:only-of-type {\n",
       "        vertical-align: middle;\n",
       "    }\n",
       "\n",
       "    .dataframe tbody tr th {\n",
       "        vertical-align: top;\n",
       "    }\n",
       "\n",
       "    .dataframe thead th {\n",
       "        text-align: right;\n",
       "    }\n",
       "</style>\n",
       "<table border=\"1\" class=\"dataframe\">\n",
       "  <thead>\n",
       "    <tr style=\"text-align: right;\">\n",
       "      <th></th>\n",
       "      <th>coco_url</th>\n",
       "      <th>height</th>\n",
       "      <th>width</th>\n",
       "      <th>id</th>\n",
       "      <th>captions</th>\n",
       "    </tr>\n",
       "  </thead>\n",
       "  <tbody>\n",
       "    <tr>\n",
       "      <td>0</td>\n",
       "      <td>http://images.cocodataset.org/val2017/00000039...</td>\n",
       "      <td>427</td>\n",
       "      <td>640</td>\n",
       "      <td>397133</td>\n",
       "      <td>branch cabinet floor floor stone food furnitur...</td>\n",
       "    </tr>\n",
       "    <tr>\n",
       "      <td>1</td>\n",
       "      <td>http://images.cocodataset.org/val2017/00000003...</td>\n",
       "      <td>230</td>\n",
       "      <td>352</td>\n",
       "      <td>37777</td>\n",
       "      <td>cabinet cardboard ceiling door stuff floor mar...</td>\n",
       "    </tr>\n",
       "    <tr>\n",
       "      <td>2</td>\n",
       "      <td>http://images.cocodataset.org/val2017/00000025...</td>\n",
       "      <td>428</td>\n",
       "      <td>640</td>\n",
       "      <td>252219</td>\n",
       "      <td>building clothes metal pavement plastic wall b...</td>\n",
       "    </tr>\n",
       "    <tr>\n",
       "      <td>3</td>\n",
       "      <td>http://images.cocodataset.org/val2017/00000008...</td>\n",
       "      <td>480</td>\n",
       "      <td>640</td>\n",
       "      <td>87038</td>\n",
       "      <td>building fog pavement platform wall concrete b...</td>\n",
       "    </tr>\n",
       "    <tr>\n",
       "      <td>4</td>\n",
       "      <td>http://images.cocodataset.org/val2017/00000017...</td>\n",
       "      <td>388</td>\n",
       "      <td>640</td>\n",
       "      <td>174482</td>\n",
       "      <td>building dirt metal pavement road tree buildin...</td>\n",
       "    </tr>\n",
       "  </tbody>\n",
       "</table>\n",
       "</div>"
      ],
      "text/plain": [
       "                                            coco_url  height  width      id  \\\n",
       "0  http://images.cocodataset.org/val2017/00000039...     427    640  397133   \n",
       "1  http://images.cocodataset.org/val2017/00000003...     230    352   37777   \n",
       "2  http://images.cocodataset.org/val2017/00000025...     428    640  252219   \n",
       "3  http://images.cocodataset.org/val2017/00000008...     480    640   87038   \n",
       "4  http://images.cocodataset.org/val2017/00000017...     388    640  174482   \n",
       "\n",
       "                                            captions  \n",
       "0  branch cabinet floor floor stone food furnitur...  \n",
       "1  cabinet cardboard ceiling door stuff floor mar...  \n",
       "2  building clothes metal pavement plastic wall b...  \n",
       "3  building fog pavement platform wall concrete b...  \n",
       "4  building dirt metal pavement road tree buildin...  "
      ]
     },
     "execution_count": 37,
     "metadata": {},
     "output_type": "execute_result"
    }
   ],
   "source": [
    "df.head()"
   ]
  },
  {
   "cell_type": "code",
   "execution_count": 38,
   "metadata": {},
   "outputs": [],
   "source": [
    "df['captions'] = df['captions'].str.lower()"
   ]
  },
  {
   "cell_type": "code",
   "execution_count": 39,
   "metadata": {},
   "outputs": [
    {
     "data": {
      "text/html": [
       "<div>\n",
       "<style scoped>\n",
       "    .dataframe tbody tr th:only-of-type {\n",
       "        vertical-align: middle;\n",
       "    }\n",
       "\n",
       "    .dataframe tbody tr th {\n",
       "        vertical-align: top;\n",
       "    }\n",
       "\n",
       "    .dataframe thead th {\n",
       "        text-align: right;\n",
       "    }\n",
       "</style>\n",
       "<table border=\"1\" class=\"dataframe\">\n",
       "  <thead>\n",
       "    <tr style=\"text-align: right;\">\n",
       "      <th></th>\n",
       "      <th>coco_url</th>\n",
       "      <th>height</th>\n",
       "      <th>width</th>\n",
       "      <th>id</th>\n",
       "      <th>captions</th>\n",
       "    </tr>\n",
       "  </thead>\n",
       "  <tbody>\n",
       "    <tr>\n",
       "      <td>0</td>\n",
       "      <td>http://images.cocodataset.org/val2017/00000039...</td>\n",
       "      <td>427</td>\n",
       "      <td>640</td>\n",
       "      <td>397133</td>\n",
       "      <td>branch cabinet floor floor stone food furnitur...</td>\n",
       "    </tr>\n",
       "    <tr>\n",
       "      <td>1</td>\n",
       "      <td>http://images.cocodataset.org/val2017/00000003...</td>\n",
       "      <td>230</td>\n",
       "      <td>352</td>\n",
       "      <td>37777</td>\n",
       "      <td>cabinet cardboard ceiling door stuff floor mar...</td>\n",
       "    </tr>\n",
       "    <tr>\n",
       "      <td>2</td>\n",
       "      <td>http://images.cocodataset.org/val2017/00000025...</td>\n",
       "      <td>428</td>\n",
       "      <td>640</td>\n",
       "      <td>252219</td>\n",
       "      <td>building clothes metal pavement plastic wall b...</td>\n",
       "    </tr>\n",
       "    <tr>\n",
       "      <td>3</td>\n",
       "      <td>http://images.cocodataset.org/val2017/00000008...</td>\n",
       "      <td>480</td>\n",
       "      <td>640</td>\n",
       "      <td>87038</td>\n",
       "      <td>building fog pavement platform wall concrete b...</td>\n",
       "    </tr>\n",
       "    <tr>\n",
       "      <td>4</td>\n",
       "      <td>http://images.cocodataset.org/val2017/00000017...</td>\n",
       "      <td>388</td>\n",
       "      <td>640</td>\n",
       "      <td>174482</td>\n",
       "      <td>building dirt metal pavement road tree buildin...</td>\n",
       "    </tr>\n",
       "  </tbody>\n",
       "</table>\n",
       "</div>"
      ],
      "text/plain": [
       "                                            coco_url  height  width      id  \\\n",
       "0  http://images.cocodataset.org/val2017/00000039...     427    640  397133   \n",
       "1  http://images.cocodataset.org/val2017/00000003...     230    352   37777   \n",
       "2  http://images.cocodataset.org/val2017/00000025...     428    640  252219   \n",
       "3  http://images.cocodataset.org/val2017/00000008...     480    640   87038   \n",
       "4  http://images.cocodataset.org/val2017/00000017...     388    640  174482   \n",
       "\n",
       "                                            captions  \n",
       "0  branch cabinet floor floor stone food furnitur...  \n",
       "1  cabinet cardboard ceiling door stuff floor mar...  \n",
       "2  building clothes metal pavement plastic wall b...  \n",
       "3  building fog pavement platform wall concrete b...  \n",
       "4  building dirt metal pavement road tree buildin...  "
      ]
     },
     "execution_count": 39,
     "metadata": {},
     "output_type": "execute_result"
    }
   ],
   "source": [
    "df.head()"
   ]
  },
  {
   "cell_type": "code",
   "execution_count": 40,
   "metadata": {},
   "outputs": [
    {
     "data": {
      "application/vnd.jupyter.widget-view+json": {
       "model_id": "beae36d0c52a456dbdd02173d6c006dd",
       "version_major": 2,
       "version_minor": 0
      },
      "text/plain": [
       "HBox(children=(IntProgress(value=0, max=3242), HTML(value='')))"
      ]
     },
     "metadata": {},
     "output_type": "display_data"
    },
    {
     "name": "stdout",
     "output_type": "stream",
     "text": [
      "\n"
     ]
    }
   ],
   "source": [
    "def remove_punctuation(text):\n",
    "    return text.translate(str.maketrans('', '', string.punctuation))\n",
    "\n",
    "df['captions'] = df['captions'].progress_apply(lambda text: remove_punctuation(text))"
   ]
  },
  {
   "cell_type": "code",
   "execution_count": 41,
   "metadata": {},
   "outputs": [
    {
     "data": {
      "text/html": [
       "<div>\n",
       "<style scoped>\n",
       "    .dataframe tbody tr th:only-of-type {\n",
       "        vertical-align: middle;\n",
       "    }\n",
       "\n",
       "    .dataframe tbody tr th {\n",
       "        vertical-align: top;\n",
       "    }\n",
       "\n",
       "    .dataframe thead th {\n",
       "        text-align: right;\n",
       "    }\n",
       "</style>\n",
       "<table border=\"1\" class=\"dataframe\">\n",
       "  <thead>\n",
       "    <tr style=\"text-align: right;\">\n",
       "      <th></th>\n",
       "      <th>coco_url</th>\n",
       "      <th>height</th>\n",
       "      <th>width</th>\n",
       "      <th>id</th>\n",
       "      <th>captions</th>\n",
       "    </tr>\n",
       "  </thead>\n",
       "  <tbody>\n",
       "    <tr>\n",
       "      <td>0</td>\n",
       "      <td>http://images.cocodataset.org/val2017/00000039...</td>\n",
       "      <td>427</td>\n",
       "      <td>640</td>\n",
       "      <td>397133</td>\n",
       "      <td>branch cabinet floor floor stone food furnitur...</td>\n",
       "    </tr>\n",
       "    <tr>\n",
       "      <td>1</td>\n",
       "      <td>http://images.cocodataset.org/val2017/00000003...</td>\n",
       "      <td>230</td>\n",
       "      <td>352</td>\n",
       "      <td>37777</td>\n",
       "      <td>cabinet cardboard ceiling door stuff floor mar...</td>\n",
       "    </tr>\n",
       "    <tr>\n",
       "      <td>2</td>\n",
       "      <td>http://images.cocodataset.org/val2017/00000025...</td>\n",
       "      <td>428</td>\n",
       "      <td>640</td>\n",
       "      <td>252219</td>\n",
       "      <td>building clothes metal pavement plastic wall b...</td>\n",
       "    </tr>\n",
       "    <tr>\n",
       "      <td>3</td>\n",
       "      <td>http://images.cocodataset.org/val2017/00000008...</td>\n",
       "      <td>480</td>\n",
       "      <td>640</td>\n",
       "      <td>87038</td>\n",
       "      <td>building fog pavement platform wall concrete b...</td>\n",
       "    </tr>\n",
       "    <tr>\n",
       "      <td>4</td>\n",
       "      <td>http://images.cocodataset.org/val2017/00000017...</td>\n",
       "      <td>388</td>\n",
       "      <td>640</td>\n",
       "      <td>174482</td>\n",
       "      <td>building dirt metal pavement road tree buildin...</td>\n",
       "    </tr>\n",
       "  </tbody>\n",
       "</table>\n",
       "</div>"
      ],
      "text/plain": [
       "                                            coco_url  height  width      id  \\\n",
       "0  http://images.cocodataset.org/val2017/00000039...     427    640  397133   \n",
       "1  http://images.cocodataset.org/val2017/00000003...     230    352   37777   \n",
       "2  http://images.cocodataset.org/val2017/00000025...     428    640  252219   \n",
       "3  http://images.cocodataset.org/val2017/00000008...     480    640   87038   \n",
       "4  http://images.cocodataset.org/val2017/00000017...     388    640  174482   \n",
       "\n",
       "                                            captions  \n",
       "0  branch cabinet floor floor stone food furnitur...  \n",
       "1  cabinet cardboard ceiling door stuff floor mar...  \n",
       "2  building clothes metal pavement plastic wall b...  \n",
       "3  building fog pavement platform wall concrete b...  \n",
       "4  building dirt metal pavement road tree buildin...  "
      ]
     },
     "execution_count": 41,
     "metadata": {},
     "output_type": "execute_result"
    }
   ],
   "source": [
    "df.head()"
   ]
  },
  {
   "cell_type": "code",
   "execution_count": 42,
   "metadata": {},
   "outputs": [
    {
     "data": {
      "application/vnd.jupyter.widget-view+json": {
       "model_id": "e4b58766e78b4d039d388aeea8df3ac0",
       "version_major": 2,
       "version_minor": 0
      },
      "text/plain": [
       "HBox(children=(IntProgress(value=0, max=3242), HTML(value='')))"
      ]
     },
     "metadata": {},
     "output_type": "display_data"
    },
    {
     "name": "stdout",
     "output_type": "stream",
     "text": [
      "\n"
     ]
    }
   ],
   "source": [
    "stop_words = set(stopwords.words('english'))\n",
    "def remove_stop_words(text):\n",
    "    return ' '.join([word for word in str(text).split() if word not in stop_words])\n",
    "\n",
    "df['captions'] = df['captions'].progress_apply(lambda text: remove_stop_words(text))"
   ]
  },
  {
   "cell_type": "code",
   "execution_count": 43,
   "metadata": {},
   "outputs": [
    {
     "data": {
      "text/html": [
       "<div>\n",
       "<style scoped>\n",
       "    .dataframe tbody tr th:only-of-type {\n",
       "        vertical-align: middle;\n",
       "    }\n",
       "\n",
       "    .dataframe tbody tr th {\n",
       "        vertical-align: top;\n",
       "    }\n",
       "\n",
       "    .dataframe thead th {\n",
       "        text-align: right;\n",
       "    }\n",
       "</style>\n",
       "<table border=\"1\" class=\"dataframe\">\n",
       "  <thead>\n",
       "    <tr style=\"text-align: right;\">\n",
       "      <th></th>\n",
       "      <th>coco_url</th>\n",
       "      <th>height</th>\n",
       "      <th>width</th>\n",
       "      <th>id</th>\n",
       "      <th>captions</th>\n",
       "    </tr>\n",
       "  </thead>\n",
       "  <tbody>\n",
       "    <tr>\n",
       "      <td>0</td>\n",
       "      <td>http://images.cocodataset.org/val2017/00000039...</td>\n",
       "      <td>427</td>\n",
       "      <td>640</td>\n",
       "      <td>397133</td>\n",
       "      <td>branch cabinet floor floor stone food furnitur...</td>\n",
       "    </tr>\n",
       "    <tr>\n",
       "      <td>1</td>\n",
       "      <td>http://images.cocodataset.org/val2017/00000003...</td>\n",
       "      <td>230</td>\n",
       "      <td>352</td>\n",
       "      <td>37777</td>\n",
       "      <td>cabinet cardboard ceiling door stuff floor mar...</td>\n",
       "    </tr>\n",
       "    <tr>\n",
       "      <td>2</td>\n",
       "      <td>http://images.cocodataset.org/val2017/00000025...</td>\n",
       "      <td>428</td>\n",
       "      <td>640</td>\n",
       "      <td>252219</td>\n",
       "      <td>building clothes metal pavement plastic wall b...</td>\n",
       "    </tr>\n",
       "    <tr>\n",
       "      <td>3</td>\n",
       "      <td>http://images.cocodataset.org/val2017/00000008...</td>\n",
       "      <td>480</td>\n",
       "      <td>640</td>\n",
       "      <td>87038</td>\n",
       "      <td>building fog pavement platform wall concrete b...</td>\n",
       "    </tr>\n",
       "    <tr>\n",
       "      <td>4</td>\n",
       "      <td>http://images.cocodataset.org/val2017/00000017...</td>\n",
       "      <td>388</td>\n",
       "      <td>640</td>\n",
       "      <td>174482</td>\n",
       "      <td>building dirt metal pavement road tree buildin...</td>\n",
       "    </tr>\n",
       "  </tbody>\n",
       "</table>\n",
       "</div>"
      ],
      "text/plain": [
       "                                            coco_url  height  width      id  \\\n",
       "0  http://images.cocodataset.org/val2017/00000039...     427    640  397133   \n",
       "1  http://images.cocodataset.org/val2017/00000003...     230    352   37777   \n",
       "2  http://images.cocodataset.org/val2017/00000025...     428    640  252219   \n",
       "3  http://images.cocodataset.org/val2017/00000008...     480    640   87038   \n",
       "4  http://images.cocodataset.org/val2017/00000017...     388    640  174482   \n",
       "\n",
       "                                            captions  \n",
       "0  branch cabinet floor floor stone food furnitur...  \n",
       "1  cabinet cardboard ceiling door stuff floor mar...  \n",
       "2  building clothes metal pavement plastic wall b...  \n",
       "3  building fog pavement platform wall concrete b...  \n",
       "4  building dirt metal pavement road tree buildin...  "
      ]
     },
     "execution_count": 43,
     "metadata": {},
     "output_type": "execute_result"
    }
   ],
   "source": [
    "df.head()"
   ]
  },
  {
   "cell_type": "code",
   "execution_count": 47,
   "metadata": {},
   "outputs": [
    {
     "data": {
      "application/vnd.jupyter.widget-view+json": {
       "model_id": "c8b28aa83eb44f1684ccbe4480176d88",
       "version_major": 2,
       "version_minor": 0
      },
      "text/plain": [
       "HBox(children=(IntProgress(value=0, max=3242), HTML(value='')))"
      ]
     },
     "metadata": {},
     "output_type": "display_data"
    },
    {
     "name": "stdout",
     "output_type": "stream",
     "text": [
      "\n"
     ]
    }
   ],
   "source": [
    "def remove_duplicates(text):\n",
    "    words = str(text).split()\n",
    "    unique_words = set(words)\n",
    "    return ' '.join(list(unique_words))\n",
    "\n",
    "df['captions'] = df['captions'].progress_apply(lambda text: remove_duplicates(text))"
   ]
  },
  {
   "cell_type": "code",
   "execution_count": 49,
   "metadata": {},
   "outputs": [
    {
     "data": {
      "text/html": [
       "<div>\n",
       "<style scoped>\n",
       "    .dataframe tbody tr th:only-of-type {\n",
       "        vertical-align: middle;\n",
       "    }\n",
       "\n",
       "    .dataframe tbody tr th {\n",
       "        vertical-align: top;\n",
       "    }\n",
       "\n",
       "    .dataframe thead th {\n",
       "        text-align: right;\n",
       "    }\n",
       "</style>\n",
       "<table border=\"1\" class=\"dataframe\">\n",
       "  <thead>\n",
       "    <tr style=\"text-align: right;\">\n",
       "      <th></th>\n",
       "      <th>coco_url</th>\n",
       "      <th>height</th>\n",
       "      <th>width</th>\n",
       "      <th>id</th>\n",
       "      <th>captions</th>\n",
       "    </tr>\n",
       "  </thead>\n",
       "  <tbody>\n",
       "    <tr>\n",
       "      <td>0</td>\n",
       "      <td>http://images.cocodataset.org/val2017/00000039...</td>\n",
       "      <td>427</td>\n",
       "      <td>640</td>\n",
       "      <td>397133</td>\n",
       "      <td>making branch food dough wall pans pots near b...</td>\n",
       "    </tr>\n",
       "    <tr>\n",
       "      <td>1</td>\n",
       "      <td>http://images.cocodataset.org/val2017/00000003...</td>\n",
       "      <td>230</td>\n",
       "      <td>352</td>\n",
       "      <td>37777</td>\n",
       "      <td>ceiling wall near us plastic floor small see t...</td>\n",
       "    </tr>\n",
       "    <tr>\n",
       "      <td>2</td>\n",
       "      <td>http://images.cocodataset.org/val2017/00000025...</td>\n",
       "      <td>428</td>\n",
       "      <td>640</td>\n",
       "      <td>252219</td>\n",
       "      <td>building city people cart cup walking street w...</td>\n",
       "    </tr>\n",
       "    <tr>\n",
       "      <td>3</td>\n",
       "      <td>http://images.cocodataset.org/val2017/00000008...</td>\n",
       "      <td>480</td>\n",
       "      <td>640</td>\n",
       "      <td>87038</td>\n",
       "      <td>building platform wall park performs jumps fal...</td>\n",
       "    </tr>\n",
       "    <tr>\n",
       "      <td>4</td>\n",
       "      <td>http://images.cocodataset.org/val2017/00000017...</td>\n",
       "      <td>388</td>\n",
       "      <td>640</td>\n",
       "      <td>174482</td>\n",
       "      <td>building city tree chained street near blue po...</td>\n",
       "    </tr>\n",
       "  </tbody>\n",
       "</table>\n",
       "</div>"
      ],
      "text/plain": [
       "                                            coco_url  height  width      id  \\\n",
       "0  http://images.cocodataset.org/val2017/00000039...     427    640  397133   \n",
       "1  http://images.cocodataset.org/val2017/00000003...     230    352   37777   \n",
       "2  http://images.cocodataset.org/val2017/00000025...     428    640  252219   \n",
       "3  http://images.cocodataset.org/val2017/00000008...     480    640   87038   \n",
       "4  http://images.cocodataset.org/val2017/00000017...     388    640  174482   \n",
       "\n",
       "                                            captions  \n",
       "0  making branch food dough wall pans pots near b...  \n",
       "1  ceiling wall near us plastic floor small see t...  \n",
       "2  building city people cart cup walking street w...  \n",
       "3  building platform wall park performs jumps fal...  \n",
       "4  building city tree chained street near blue po...  "
      ]
     },
     "execution_count": 49,
     "metadata": {},
     "output_type": "execute_result"
    }
   ],
   "source": [
    "df.head()"
   ]
  },
  {
   "cell_type": "code",
   "execution_count": 50,
   "metadata": {},
   "outputs": [],
   "source": [
    "df.to_csv('../data/2017/captions.csv', index=False)"
   ]
  },
  {
   "cell_type": "code",
   "execution_count": null,
   "metadata": {},
   "outputs": [],
   "source": []
  }
 ],
 "metadata": {
  "kernelspec": {
   "display_name": "Python 3",
   "language": "python",
   "name": "python3"
  },
  "language_info": {
   "codemirror_mode": {
    "name": "ipython",
    "version": 3
   },
   "file_extension": ".py",
   "mimetype": "text/x-python",
   "name": "python",
   "nbconvert_exporter": "python",
   "pygments_lexer": "ipython3",
   "version": "3.7.4"
  }
 },
 "nbformat": 4,
 "nbformat_minor": 2
}
